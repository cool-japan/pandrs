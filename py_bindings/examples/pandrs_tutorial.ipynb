{
 "cells": [
  {
   "cell_type": "markdown",
   "metadata": {},
   "source": [
    "# PandRS Tutorial\n",
    "\n",
    "This notebook demonstrates the basic usage of PandRS, a Rust-powered DataFrame library for Python with a pandas-like API."
   ]
  },
  {
   "cell_type": "code",
   "execution_count": null,
   "metadata": {},
   "source": [
    "import pandrs as pr\n",
    "import numpy as np\n",
    "import pandas as pd\n",
    "\n",
    "print(f\"PandRS version: {pr.__version__}\")"
   ]
  },
  {
   "cell_type": "markdown",
   "metadata": {},
   "source": [
    "## Creating DataFrames\n",
    "\n",
    "You can create a DataFrame from a dictionary of lists or NumPy arrays:"
   ]
  },
  {
   "cell_type": "code",
   "execution_count": null,
   "metadata": {},
   "source": [
    "# Create a simple DataFrame\n",
    "df = pr.DataFrame({\n",
    "    'A': [1, 2, 3, 4, 5],\n",
    "    'B': ['a', 'b', 'c', 'd', 'e'],\n",
    "    'C': [1.1, 2.2, 3.3, 4.4, 5.5]\n",
    "})\n",
    "\n",
    "# Display the DataFrame\n",
    "df"
   ]
  },
  {
   "cell_type": "markdown",
   "metadata": {},
   "source": [
    "## Converting between pandas and PandRS\n",
    "\n",
    "You can easily convert between pandas and PandRS DataFrames:"
   ]
  },
  {
   "cell_type": "code",
   "execution_count": null,
   "metadata": {},
   "source": [
    "# Convert to pandas DataFrame\n",
    "pd_df = df.to_pandas()\n",
    "print(\"Pandas DataFrame:\")\n",
    "pd_df"
   ]
  },
  {
   "cell_type": "code",
   "execution_count": null,
   "metadata": {},
   "source": [
    "# Convert back to PandRS DataFrame\n",
    "pr_df = pr.DataFrame.from_pandas(pd_df)\n",
    "print(\"PandRS DataFrame:\")\n",
    "pr_df"
   ]
  },
  {
   "cell_type": "markdown",
   "metadata": {},
   "source": [
    "## Working with Series\n",
    "\n",
    "You can extract columns as Series objects:"
   ]
  },
  {
   "cell_type": "code",
   "execution_count": null,
   "metadata": {},
   "source": [
    "# Get a column as a Series\n",
    "series_a = df['A']\n",
    "series_a"
   ]
  },
  {
   "cell_type": "code",
   "execution_count": null,
   "metadata": {},
   "source": [
    "# Convert to NumPy array\n",
    "np_array = series_a.to_numpy()\n",
    "print(f\"NumPy array: {np_array}\")\n",
    "print(f\"Type: {type(np_array)}\")"
   ]
  },
  {
   "cell_type": "markdown",
   "metadata": {},
   "source": [
    "## Handling Missing Values\n",
    "\n",
    "PandRS has built-in support for handling missing values with the NASeries class:"
   ]
  },
  {
   "cell_type": "code",
   "execution_count": null,
   "metadata": {},
   "source": [
    "# Create a DataFrame with missing values\n",
    "df_na = pr.DataFrame({\n",
    "    'A': [1, 2, None, 4, 5],\n",
    "    'B': ['a', None, 'c', 'd', None],\n",
    "    'C': [1.1, 2.2, 3.3, None, 5.5]\n",
    "})\n",
    "\n",
    "df_na"
   ]
  },
  {
   "cell_type": "markdown",
   "metadata": {},
   "source": [
    "## Loading and Saving Data\n",
    "\n",
    "PandRS supports reading and writing CSV and JSON files:"
   ]
  },
  {
   "cell_type": "code",
   "execution_count": null,
   "metadata": {},
   "source": [
    "# Save DataFrame to CSV\n",
    "df.to_csv('sample_data.csv')\n",
    "\n",
    "# Read DataFrame from CSV\n",
    "df_from_csv = pr.DataFrame.read_csv('sample_data.csv')\n",
    "df_from_csv"
   ]
  },
  {
   "cell_type": "code",
   "execution_count": null,
   "metadata": {},
   "source": [
    "# Convert DataFrame to JSON\n",
    "json_str = df.to_json()\n",
    "print(json_str)\n",
    "\n",
    "# Read DataFrame from JSON\n",
    "df_from_json = pr.DataFrame.read_json(json_str)\n",
    "df_from_json"
   ]
  },
  {
   "cell_type": "markdown",
   "metadata": {},
   "source": [
    "## Performance Comparison\n",
    "\n",
    "Let's compare the performance of PandRS and pandas:"
   ]
  },
  {
   "cell_type": "code",
   "execution_count": null,
   "metadata": {},
   "source": [
    "import time\n",
    "\n",
    "# Create a large DataFrame\n",
    "n_rows = 100000\n",
    "data = {\n",
    "    'A': list(range(n_rows)),\n",
    "    'B': [f\"value_{i}\" for i in range(n_rows)],\n",
    "    'C': [i * 1.1 for i in range(n_rows)]\n",
    "}\n",
    "\n",
    "# Time pandas DataFrame creation\n",
    "start = time.time()\n",
    "pd_df = pd.DataFrame(data)\n",
    "pd_time = time.time() - start\n",
    "print(f\"pandas DataFrame creation time: {pd_time:.4f} seconds\")\n",
    "\n",
    "# Time PandRS DataFrame creation\n",
    "start = time.time()\n",
    "pr_df = pr.DataFrame(data)\n",
    "pr_time = time.time() - start\n",
    "print(f\"PandRS DataFrame creation time: {pr_time:.4f} seconds\")\n",
    "\n",
    "print(f\"Speed ratio: {pd_time / pr_time:.2f}x\")"
   ]
  }
 ],
 "metadata": {
  "kernelspec": {
   "display_name": "Python 3",
   "language": "python",
   "name": "python3"
  },
  "language_info": {
   "codemirror_mode": {
    "name": "ipython",
    "version": 3
   },
   "file_extension": ".py",
   "mimetype": "text/x-python",
   "name": "python",
   "nbconvert_exporter": "python",
   "pygments_lexer": "ipython3",
   "version": "3.8.10"
  }
 },
 "nbformat": 4,
 "nbformat_minor": 4
}